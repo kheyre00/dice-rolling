{
 "cells": [
  {
   "cell_type": "code",
   "execution_count": 7,
   "metadata": {},
   "outputs": [
    {
     "name": "stdout",
     "output_type": "stream",
     "text": [
      "You rolled a 2\n",
      "You rolled a 3\n",
      "You rolled a 5\n",
      "You rolled a 6\n",
      "You rolled a 5\n",
      "You rolled a 1\n"
     ]
    }
   ],
   "source": [
    "import random\n",
    "\n",
    "while True:\n",
    "    roll = random.randint(1, 6)\n",
    "    print(f\"You rolled a {roll}\")\n",
    "    roll_again = input(\"Roll again? (y/n) \")\n",
    "    if roll_again.lower() != \"y\":\n",
    "        break"
   ]
  }
 ],
 "metadata": {
  "kernelspec": {
   "display_name": "Python 3",
   "language": "python",
   "name": "python3"
  },
  "language_info": {
   "codemirror_mode": {
    "name": "ipython",
    "version": 3
   },
   "file_extension": ".py",
   "mimetype": "text/x-python",
   "name": "python",
   "nbconvert_exporter": "python",
   "pygments_lexer": "ipython3",
   "version": "3.10.9"
  },
  "orig_nbformat": 4,
  "vscode": {
   "interpreter": {
    "hash": "47e11fd96469cad8fe73d014b87081821b70e8339ca847bccea2690019d2cb0b"
   }
  }
 },
 "nbformat": 4,
 "nbformat_minor": 2
}
